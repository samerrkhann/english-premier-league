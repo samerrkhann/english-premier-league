{
 "cells": [
  {
   "cell_type": "markdown",
   "metadata": {},
   "source": [
    "# 1. An Introduction to British Premier League"
   ]
  },
  {
   "cell_type": "markdown",
   "metadata": {},
   "source": [
    "## 1.1 About the league"
   ]
  },
  {
   "cell_type": "markdown",
   "metadata": {},
   "source": [
    "Football/soccer is one of the most played games in the world. It is played by approximately **250 million** players in over **200 countries and dependencies**, making it the [world's most popular sport.](https://en.wikipedia.org/wiki/Association_football#:~:text=It%20is%20played%20by%20approximately,the%20world's%20most%20popular%20sport.)\n",
    "\n",
    "The **British/English Premier League** is a soccer/football league of **England**. It is a **Division 1** league which is played among **20 clubs**. It works on a system of **promotion and relegation of clubs** to lower division or to UEFA champions league. The first season of English Premier League was played in February 1992 and since then it has been playing to present days. Currently the **29th Season** of the league is in progress with about 13-14 matches played by each club out of 32 matches.\n",
    "\n",
    "##### Note: The number of matches and clubs were not the same since the start. These rules were adopted later on"
   ]
  },
  {
   "cell_type": "markdown",
   "metadata": {},
   "source": [
    "## 1.2 Rules & Regulation\n",
    "\n",
    "Since our goal is not to comprehend how the league proceed but to analyse the factor or similarity of the pattern among the teams being relegated. We will just take a light overview of the game.\n",
    "\n",
    "Some of the rules taken from [Premier League Official site](https://www.premierleague.com/premier-league-explained#:~:text=The%20league%20takes%20place%20between,winning%20the%20Premier%20League%20title.) are :\n",
    "- The league takes place between August and May and involves the teams playing each other home and away across the season, a total of 380 matches.\n",
    "- Three points are awarded for a win, one point for a draw and none for a defeat, with the team with the most points at the end of the season winning the Premier League title.\n",
    "- The teams that finish in the bottom three of the league table at the end of the campaign are relegated to the Championship, the second tier of English football.\n",
    "- Those teams are replaced by three clubs promoted from the Championship; the sides that finish in first and second place and the third via the end-of-season playoffs. "
   ]
  },
  {
   "cell_type": "code",
   "execution_count": 1,
   "metadata": {},
   "outputs": [],
   "source": [
    "import pandas as pd\n",
    "import numpy as np\n",
    "import glob\n",
    "import kaggle\n",
    "from zipfile import ZipFile\n",
    "import os\n",
    "import matplotlib.pyplot as plt\n",
    "import seaborn as sns\n",
    "%matplotlib inline"
   ]
  },
  {
   "cell_type": "code",
   "execution_count": 2,
   "metadata": {},
   "outputs": [],
   "source": [
    "from kaggle.api.kaggle_api_extended import KaggleApi"
   ]
  },
  {
   "cell_type": "code",
   "execution_count": 3,
   "metadata": {},
   "outputs": [],
   "source": [
    "api=KaggleApi()\n",
    "api.authenticate()"
   ]
  },
  {
   "cell_type": "code",
   "execution_count": 4,
   "metadata": {},
   "outputs": [],
   "source": [
    "api.dataset_download_files(\"egadharmawan/premier-league-standing-all-season-19922020\")"
   ]
  },
  {
   "cell_type": "code",
   "execution_count": 5,
   "metadata": {},
   "outputs": [],
   "source": [
    "zf=ZipFile('premier-league-standing-all-season-19922020.zip')\n",
    "zf.extractall('Dataset/')\n",
    "zf.close()"
   ]
  },
  {
   "cell_type": "code",
   "execution_count": 45,
   "metadata": {},
   "outputs": [],
   "source": [
    "all_files = glob.glob(\"Dataset\\Premier League*.csv\")\n",
    "\n",
    "# Combine all DataFrame\n",
    "all = []\n",
    "for filename in all_files:\n",
    "    df = pd.read_csv(filename, index_col=None, header=0)\n",
    "    df.columns = ['Position','Club','Played','Won','Drawn','Lost','GF','GA','GD','Points','Season']\n",
    "    all.append(df)\n",
    "\n",
    "# Sort DataFrame\n",
    "df1 = pd.concat(all, axis=0, ignore_index=True, sort=False)\n",
    "df1 = df1.sort_values(['Season','Position'], ascending=[True, True])"
   ]
  },
  {
   "cell_type": "code",
   "execution_count": 47,
   "metadata": {},
   "outputs": [
    {
     "data": {
      "text/plain": [
       "array(['1992/1993', '1993/1994', '1994/1995', '1995/1996', '1996/1997',\n",
       "       '1997/1998', '1998/1999', '1999/2000', '2000/2001', '2001/2002',\n",
       "       '2002/2003', '2003/2004', '2004/2005', '2005/2006', '2006/2007',\n",
       "       '2007/2008', '2008/2009', '2009/2010', '2010/2011', '2011/2012',\n",
       "       '2012/2013', '2013/2014', '2014/2015', '2015/2016', '2016/2017',\n",
       "       '2017/2018', '2018/2019', '2019/2020'], dtype=object)"
      ]
     },
     "execution_count": 47,
     "metadata": {},
     "output_type": "execute_result"
    }
   ],
   "source": [
    "df1['Season'].unique()"
   ]
  },
  {
   "cell_type": "code",
   "execution_count": 13,
   "metadata": {},
   "outputs": [
    {
     "data": {
      "text/plain": [
       "array(['Manchester United', 'Aston Villa', 'Norwich City',\n",
       "       'Blackburn Rovers', 'Queens Park Rangers', 'Liverpool',\n",
       "       'Sheffield Wednesday', 'Tottenham Hotspur', 'Manchester City',\n",
       "       'Arsenal', 'Chelsea', 'Wimbledon', 'Everton', 'Sheffield United',\n",
       "       'Coventry City', 'Ipswich Town', 'Leeds United', 'Southampton',\n",
       "       'Oldham Athletic', 'Crystal Palace', 'Middlesbrough',\n",
       "       'Nottingham Forest', 'Newcastle United', 'West Ham United',\n",
       "       'Swindon Town', 'Leicester City', 'Bolton Wanderers',\n",
       "       'Derby County', 'Sunderland', 'Barnsley', 'Charlton Athletic',\n",
       "       'Bradford City', 'Watford', 'WestHam United', 'Fulham',\n",
       "       'Birmingham City', 'West Bromwich Albion', 'Portsmouth',\n",
       "       'Wolverhampton Wanderers', 'Wigan Athletic', 'Reading',\n",
       "       'Stoke City', 'Hull City', 'Burnley', 'Blackpool', 'Swansea City',\n",
       "       'Cardiff City', 'Bournemouth', 'Brighton and Hove Albion',\n",
       "       'Huddersfield Town'], dtype=object)"
      ]
     },
     "execution_count": 13,
     "metadata": {},
     "output_type": "execute_result"
    }
   ],
   "source": [
    "df1['Club'].unique()"
   ]
  },
  {
   "cell_type": "code",
   "execution_count": 57,
   "metadata": {},
   "outputs": [],
   "source": [
    "df2=pd.read_csv(\"Dataset/2019_2021/2019_2021.csv\",index_col=0)"
   ]
  },
  {
   "cell_type": "code",
   "execution_count": 58,
   "metadata": {},
   "outputs": [
    {
     "data": {
      "text/plain": [
       "array(['Liverpool', 'Manchester City', 'Manchester Utd', 'Chelsea',\n",
       "       'Leicester City', 'Tottenham', 'Wolves', 'Arsenal',\n",
       "       'Sheffield Utd', 'Burnley', 'Southampton', 'Everton',\n",
       "       'Newcastle Utd', 'Crystal Palace', 'Brighton', 'West Ham',\n",
       "       'Aston Villa', 'Bournemouth', 'Watford', 'Norwich City',\n",
       "       'Leeds United', 'Fulham', 'West Brom'], dtype=object)"
      ]
     },
     "execution_count": 58,
     "metadata": {},
     "output_type": "execute_result"
    }
   ],
   "source": [
    "df2['Squad'].unique()"
   ]
  },
  {
   "cell_type": "code",
   "execution_count": 59,
   "metadata": {},
   "outputs": [],
   "source": [
    "n=0\n",
    "team_names_tobecorrected=[]\n",
    "for x in df2['Squad'].unique():\n",
    "    if not x in df1['Club'].unique():\n",
    "        team_names_tobecorrected.append(x)\n",
    "        n+=1"
   ]
  },
  {
   "cell_type": "code",
   "execution_count": 60,
   "metadata": {},
   "outputs": [
    {
     "data": {
      "text/plain": [
       "['Manchester Utd',\n",
       " 'Tottenham',\n",
       " 'Wolves',\n",
       " 'Sheffield Utd',\n",
       " 'Newcastle Utd',\n",
       " 'Brighton',\n",
       " 'West Ham',\n",
       " 'West Brom']"
      ]
     },
     "execution_count": 60,
     "metadata": {},
     "output_type": "execute_result"
    }
   ],
   "source": [
    "team_names_tobecorrected"
   ]
  },
  {
   "cell_type": "code",
   "execution_count": 61,
   "metadata": {},
   "outputs": [],
   "source": [
    "corrected_names=['Manchester United','Tottenham Hotspur','Wolverhampton Wanderers','Sheffield United','Newcastle United','Brighton and Hove Albion','West Ham United','West Bromwich Albion']"
   ]
  },
  {
   "cell_type": "code",
   "execution_count": 62,
   "metadata": {},
   "outputs": [],
   "source": [
    "df2['Squad'].replace(to_replace=team_names_tobecorrected,value=corrected_names,inplace=True)"
   ]
  },
  {
   "cell_type": "code",
   "execution_count": 63,
   "metadata": {},
   "outputs": [
    {
     "name": "stderr",
     "output_type": "stream",
     "text": [
      "p:\\softwares\\anaconda\\envs\\mytfenv\\lib\\site-packages\\ipykernel_launcher.py:2: SettingWithCopyWarning: \n",
      "A value is trying to be set on a copy of a slice from a DataFrame\n",
      "\n",
      "See the caveats in the documentation: http://pandas.pydata.org/pandas-docs/stable/user_guide/indexing.html#returning-a-view-versus-a-copy\n",
      "  \n"
     ]
    }
   ],
   "source": [
    "df2['Season']='2019/2020'\n",
    "df2['Season'][20:]='2020/2021'"
   ]
  },
  {
   "cell_type": "code",
   "execution_count": 64,
   "metadata": {},
   "outputs": [],
   "source": [
    "df2.columns=df1.columns"
   ]
  },
  {
   "cell_type": "code",
   "execution_count": 67,
   "metadata": {},
   "outputs": [],
   "source": [
    "df1.columns=df2.columns"
   ]
  },
  {
   "cell_type": "code",
   "execution_count": 73,
   "metadata": {},
   "outputs": [],
   "source": [
    "df=pd.concat([df1,df2])"
   ]
  },
  {
   "cell_type": "code",
   "execution_count": 77,
   "metadata": {},
   "outputs": [
    {
     "data": {
      "text/html": [
       "<div>\n",
       "<style scoped>\n",
       "    .dataframe tbody tr th:only-of-type {\n",
       "        vertical-align: middle;\n",
       "    }\n",
       "\n",
       "    .dataframe tbody tr th {\n",
       "        vertical-align: top;\n",
       "    }\n",
       "\n",
       "    .dataframe thead th {\n",
       "        text-align: right;\n",
       "    }\n",
       "</style>\n",
       "<table border=\"1\" class=\"dataframe\">\n",
       "  <thead>\n",
       "    <tr style=\"text-align: right;\">\n",
       "      <th></th>\n",
       "      <th>Position</th>\n",
       "      <th>Club</th>\n",
       "      <th>Played</th>\n",
       "      <th>Won</th>\n",
       "      <th>Drawn</th>\n",
       "      <th>Lost</th>\n",
       "      <th>GF</th>\n",
       "      <th>GA</th>\n",
       "      <th>GD</th>\n",
       "      <th>Points</th>\n",
       "      <th>Season</th>\n",
       "    </tr>\n",
       "  </thead>\n",
       "  <tbody>\n",
       "    <tr>\n",
       "      <th>0</th>\n",
       "      <td>1</td>\n",
       "      <td>Manchester United</td>\n",
       "      <td>42</td>\n",
       "      <td>24</td>\n",
       "      <td>12</td>\n",
       "      <td>6</td>\n",
       "      <td>67</td>\n",
       "      <td>31</td>\n",
       "      <td>36</td>\n",
       "      <td>84.0</td>\n",
       "      <td>1992/1993</td>\n",
       "    </tr>\n",
       "    <tr>\n",
       "      <th>1</th>\n",
       "      <td>2</td>\n",
       "      <td>Aston Villa</td>\n",
       "      <td>42</td>\n",
       "      <td>21</td>\n",
       "      <td>11</td>\n",
       "      <td>10</td>\n",
       "      <td>57</td>\n",
       "      <td>40</td>\n",
       "      <td>17</td>\n",
       "      <td>74.0</td>\n",
       "      <td>1992/1993</td>\n",
       "    </tr>\n",
       "    <tr>\n",
       "      <th>2</th>\n",
       "      <td>3</td>\n",
       "      <td>Norwich City</td>\n",
       "      <td>42</td>\n",
       "      <td>21</td>\n",
       "      <td>9</td>\n",
       "      <td>12</td>\n",
       "      <td>61</td>\n",
       "      <td>65</td>\n",
       "      <td>-4</td>\n",
       "      <td>72.0</td>\n",
       "      <td>1992/1993</td>\n",
       "    </tr>\n",
       "    <tr>\n",
       "      <th>3</th>\n",
       "      <td>4</td>\n",
       "      <td>Blackburn Rovers</td>\n",
       "      <td>42</td>\n",
       "      <td>20</td>\n",
       "      <td>11</td>\n",
       "      <td>11</td>\n",
       "      <td>68</td>\n",
       "      <td>46</td>\n",
       "      <td>22</td>\n",
       "      <td>71.0</td>\n",
       "      <td>1992/1993</td>\n",
       "    </tr>\n",
       "    <tr>\n",
       "      <th>4</th>\n",
       "      <td>5</td>\n",
       "      <td>Queens Park Rangers</td>\n",
       "      <td>42</td>\n",
       "      <td>17</td>\n",
       "      <td>12</td>\n",
       "      <td>13</td>\n",
       "      <td>63</td>\n",
       "      <td>55</td>\n",
       "      <td>8</td>\n",
       "      <td>63.0</td>\n",
       "      <td>1992/1993</td>\n",
       "    </tr>\n",
       "    <tr>\n",
       "      <th>...</th>\n",
       "      <td>...</td>\n",
       "      <td>...</td>\n",
       "      <td>...</td>\n",
       "      <td>...</td>\n",
       "      <td>...</td>\n",
       "      <td>...</td>\n",
       "      <td>...</td>\n",
       "      <td>...</td>\n",
       "      <td>...</td>\n",
       "      <td>...</td>\n",
       "      <td>...</td>\n",
       "    </tr>\n",
       "    <tr>\n",
       "      <th>601</th>\n",
       "      <td>16</td>\n",
       "      <td>Brighton and Hove Albion</td>\n",
       "      <td>13</td>\n",
       "      <td>2</td>\n",
       "      <td>5</td>\n",
       "      <td>6</td>\n",
       "      <td>15</td>\n",
       "      <td>21</td>\n",
       "      <td>-6</td>\n",
       "      <td>11.0</td>\n",
       "      <td>2020/2021</td>\n",
       "    </tr>\n",
       "    <tr>\n",
       "      <th>602</th>\n",
       "      <td>17</td>\n",
       "      <td>Fulham</td>\n",
       "      <td>14</td>\n",
       "      <td>2</td>\n",
       "      <td>4</td>\n",
       "      <td>8</td>\n",
       "      <td>13</td>\n",
       "      <td>23</td>\n",
       "      <td>-10</td>\n",
       "      <td>10.0</td>\n",
       "      <td>2020/2021</td>\n",
       "    </tr>\n",
       "    <tr>\n",
       "      <th>603</th>\n",
       "      <td>18</td>\n",
       "      <td>Burnley</td>\n",
       "      <td>12</td>\n",
       "      <td>2</td>\n",
       "      <td>4</td>\n",
       "      <td>6</td>\n",
       "      <td>6</td>\n",
       "      <td>18</td>\n",
       "      <td>-12</td>\n",
       "      <td>10.0</td>\n",
       "      <td>2020/2021</td>\n",
       "    </tr>\n",
       "    <tr>\n",
       "      <th>604</th>\n",
       "      <td>19</td>\n",
       "      <td>West Bromwich Albion</td>\n",
       "      <td>13</td>\n",
       "      <td>1</td>\n",
       "      <td>4</td>\n",
       "      <td>8</td>\n",
       "      <td>10</td>\n",
       "      <td>26</td>\n",
       "      <td>-16</td>\n",
       "      <td>7.0</td>\n",
       "      <td>2020/2021</td>\n",
       "    </tr>\n",
       "    <tr>\n",
       "      <th>605</th>\n",
       "      <td>20</td>\n",
       "      <td>Sheffield United</td>\n",
       "      <td>13</td>\n",
       "      <td>0</td>\n",
       "      <td>1</td>\n",
       "      <td>12</td>\n",
       "      <td>7</td>\n",
       "      <td>24</td>\n",
       "      <td>-17</td>\n",
       "      <td>1.0</td>\n",
       "      <td>2020/2021</td>\n",
       "    </tr>\n",
       "  </tbody>\n",
       "</table>\n",
       "<p>606 rows × 11 columns</p>\n",
       "</div>"
      ],
      "text/plain": [
       "     Position                      Club  Played  Won  Drawn  Lost  GF  GA  GD  \\\n",
       "0           1         Manchester United      42   24     12     6  67  31  36   \n",
       "1           2               Aston Villa      42   21     11    10  57  40  17   \n",
       "2           3              Norwich City      42   21      9    12  61  65  -4   \n",
       "3           4          Blackburn Rovers      42   20     11    11  68  46  22   \n",
       "4           5       Queens Park Rangers      42   17     12    13  63  55   8   \n",
       "..        ...                       ...     ...  ...    ...   ...  ..  ..  ..   \n",
       "601        16  Brighton and Hove Albion      13    2      5     6  15  21  -6   \n",
       "602        17                    Fulham      14    2      4     8  13  23 -10   \n",
       "603        18                   Burnley      12    2      4     6   6  18 -12   \n",
       "604        19      West Bromwich Albion      13    1      4     8  10  26 -16   \n",
       "605        20          Sheffield United      13    0      1    12   7  24 -17   \n",
       "\n",
       "     Points     Season  \n",
       "0      84.0  1992/1993  \n",
       "1      74.0  1992/1993  \n",
       "2      72.0  1992/1993  \n",
       "3      71.0  1992/1993  \n",
       "4      63.0  1992/1993  \n",
       "..      ...        ...  \n",
       "601    11.0  2020/2021  \n",
       "602    10.0  2020/2021  \n",
       "603    10.0  2020/2021  \n",
       "604     7.0  2020/2021  \n",
       "605     1.0  2020/2021  \n",
       "\n",
       "[606 rows x 11 columns]"
      ]
     },
     "execution_count": 77,
     "metadata": {},
     "output_type": "execute_result"
    }
   ],
   "source": [
    "df.reset_index(drop=True)"
   ]
  },
  {
   "cell_type": "code",
   "execution_count": 78,
   "metadata": {},
   "outputs": [
    {
     "data": {
      "text/html": [
       "<div>\n",
       "<style scoped>\n",
       "    .dataframe tbody tr th:only-of-type {\n",
       "        vertical-align: middle;\n",
       "    }\n",
       "\n",
       "    .dataframe tbody tr th {\n",
       "        vertical-align: top;\n",
       "    }\n",
       "\n",
       "    .dataframe thead th {\n",
       "        text-align: right;\n",
       "    }\n",
       "</style>\n",
       "<table border=\"1\" class=\"dataframe\">\n",
       "  <thead>\n",
       "    <tr style=\"text-align: right;\">\n",
       "      <th></th>\n",
       "      <th>Position</th>\n",
       "      <th>Club</th>\n",
       "      <th>Played</th>\n",
       "      <th>Won</th>\n",
       "      <th>Drawn</th>\n",
       "      <th>Lost</th>\n",
       "      <th>GF</th>\n",
       "      <th>GA</th>\n",
       "      <th>GD</th>\n",
       "      <th>Points</th>\n",
       "      <th>Season</th>\n",
       "    </tr>\n",
       "  </thead>\n",
       "  <tbody>\n",
       "    <tr>\n",
       "      <th>400</th>\n",
       "      <td>1</td>\n",
       "      <td>Manchester United</td>\n",
       "      <td>42</td>\n",
       "      <td>24</td>\n",
       "      <td>12</td>\n",
       "      <td>6</td>\n",
       "      <td>67</td>\n",
       "      <td>31</td>\n",
       "      <td>36</td>\n",
       "      <td>84.0</td>\n",
       "      <td>1992/1993</td>\n",
       "    </tr>\n",
       "    <tr>\n",
       "      <th>401</th>\n",
       "      <td>2</td>\n",
       "      <td>Aston Villa</td>\n",
       "      <td>42</td>\n",
       "      <td>21</td>\n",
       "      <td>11</td>\n",
       "      <td>10</td>\n",
       "      <td>57</td>\n",
       "      <td>40</td>\n",
       "      <td>17</td>\n",
       "      <td>74.0</td>\n",
       "      <td>1992/1993</td>\n",
       "    </tr>\n",
       "    <tr>\n",
       "      <th>402</th>\n",
       "      <td>3</td>\n",
       "      <td>Norwich City</td>\n",
       "      <td>42</td>\n",
       "      <td>21</td>\n",
       "      <td>9</td>\n",
       "      <td>12</td>\n",
       "      <td>61</td>\n",
       "      <td>65</td>\n",
       "      <td>-4</td>\n",
       "      <td>72.0</td>\n",
       "      <td>1992/1993</td>\n",
       "    </tr>\n",
       "    <tr>\n",
       "      <th>403</th>\n",
       "      <td>4</td>\n",
       "      <td>Blackburn Rovers</td>\n",
       "      <td>42</td>\n",
       "      <td>20</td>\n",
       "      <td>11</td>\n",
       "      <td>11</td>\n",
       "      <td>68</td>\n",
       "      <td>46</td>\n",
       "      <td>22</td>\n",
       "      <td>71.0</td>\n",
       "      <td>1992/1993</td>\n",
       "    </tr>\n",
       "    <tr>\n",
       "      <th>404</th>\n",
       "      <td>5</td>\n",
       "      <td>Queens Park Rangers</td>\n",
       "      <td>42</td>\n",
       "      <td>17</td>\n",
       "      <td>12</td>\n",
       "      <td>13</td>\n",
       "      <td>63</td>\n",
       "      <td>55</td>\n",
       "      <td>8</td>\n",
       "      <td>63.0</td>\n",
       "      <td>1992/1993</td>\n",
       "    </tr>\n",
       "  </tbody>\n",
       "</table>\n",
       "</div>"
      ],
      "text/plain": [
       "     Position                 Club  Played  Won  Drawn  Lost  GF  GA  GD  \\\n",
       "400         1    Manchester United      42   24     12     6  67  31  36   \n",
       "401         2          Aston Villa      42   21     11    10  57  40  17   \n",
       "402         3         Norwich City      42   21      9    12  61  65  -4   \n",
       "403         4     Blackburn Rovers      42   20     11    11  68  46  22   \n",
       "404         5  Queens Park Rangers      42   17     12    13  63  55   8   \n",
       "\n",
       "     Points     Season  \n",
       "400    84.0  1992/1993  \n",
       "401    74.0  1992/1993  \n",
       "402    72.0  1992/1993  \n",
       "403    71.0  1992/1993  \n",
       "404    63.0  1992/1993  "
      ]
     },
     "execution_count": 78,
     "metadata": {},
     "output_type": "execute_result"
    }
   ],
   "source": [
    "df.head()"
   ]
  },
  {
   "cell_type": "code",
   "execution_count": null,
   "metadata": {},
   "outputs": [],
   "source": []
  }
 ],
 "metadata": {
  "kernelspec": {
   "display_name": "Python 3",
   "language": "python",
   "name": "python3"
  },
  "language_info": {
   "codemirror_mode": {
    "name": "ipython",
    "version": 3
   },
   "file_extension": ".py",
   "mimetype": "text/x-python",
   "name": "python",
   "nbconvert_exporter": "python",
   "pygments_lexer": "ipython3",
   "version": "3.7.7"
  }
 },
 "nbformat": 4,
 "nbformat_minor": 4
}
