{
 "cells": [
  {
   "cell_type": "markdown",
   "metadata": {},
   "source": [
    "# 1. An Introduction to British Premier League"
   ]
  },
  {
   "cell_type": "markdown",
   "metadata": {},
   "source": [
    "## 1.1 About the league"
   ]
  },
  {
   "cell_type": "markdown",
   "metadata": {},
   "source": [
    "Football/soccer is one of the most played games in the world. It is played by approximately **250 million** players in over **200 countries and dependencies**, making it the [world's most popular sport.](https://en.wikipedia.org/wiki/Association_football#:~:text=It%20is%20played%20by%20approximately,the%20world's%20most%20popular%20sport.)\n",
    "\n",
    "The **British/English Premier League** is a soccer/football league of **England**. It is a **Division 1** league which is played among **20 clubs**. It works on a system of **promotion and relegation of clubs** to lower division or to UEFA champions league. The first season of English Premier League was played in February 1992 and since then it has been playing to present days. Currently the **29th Season** of the league is in progress with about 13-14 matches played by each club out of 32 matches.\n",
    "\n",
    "##### Note: The number of matches and clubs were not the same since the start. These rules were adopted later on"
   ]
  },
  {
   "cell_type": "markdown",
   "metadata": {},
   "source": [
    "## 1.2 Rules & Regulation\n",
    "\n",
    "Since our goal is not to comprehend how the league proceed but to analyse the factor or similarity of the pattern among the teams being relegated. We will just take a light overview of the game.\n",
    "\n",
    "Some of the rules taken from [Premier League Official site](https://www.premierleague.com/premier-league-explained#:~:text=The%20league%20takes%20place%20between,winning%20the%20Premier%20League%20title.) are :\n",
    "- The league takes place between August and May and involves the teams playing each other home and away across the season, a total of 380 matches.\n",
    "- Three points are awarded for a win, one point for a draw and none for a defeat, with the team with the most points at the end of the season winning the Premier League title.\n",
    "- The teams that finish in the bottom three of the league table at the end of the campaign are relegated to the Championship, the second tier of English football.\n",
    "- Those teams are replaced by three clubs promoted from the Championship; the sides that finish in first and second place and the third via the end-of-season playoffs. "
   ]
  },
  {
   "cell_type": "markdown",
   "metadata": {},
   "source": [
    "## 1.3 Description of the Dataset"
   ]
  },
  {
   "cell_type": "markdown",
   "metadata": {},
   "source": [
    "The Dataset used in the notebook has been obtained from **two sources**.\n",
    "First is from [kaggle.com](https://www.kaggle.com/egadharmawan/premier-league-standing-all-season-19922020). It is a community for data scientists and machine learning practioner. Anyone can share their dataset with the community. The dataset used in the problem has been extracted and prepared by **Ega Febri Dharmawan**. This dataset has the information of Premier League seasons since 1992-1993 to 2018-2019. Since our goal is to use the data till the present date so the data of the season 2019-2020 and 2020-2021 (which is currently going on) is obtained from [fbref.com](https://fbref.com/en/) which is a football statistics website. The data of the latest 2 seasons have been scraped from there. \n",
    "\n",
    "Both of the datasets have been applied with some cleaing steps and after which the data in the pure format has been extracted out. The cleaning steps will be explained in greater depth, later in the section. The final output is the clean and consistent data with the infromation of seasons from 1992-2021."
   ]
  },
  {
   "cell_type": "markdown",
   "metadata": {},
   "source": [
    "# 2. Working with Data using Jupyter Notebook"
   ]
  },
  {
   "cell_type": "markdown",
   "metadata": {},
   "source": [
    "## 2.1 Importing necessary Libraries "
   ]
  },
  {
   "cell_type": "markdown",
   "metadata": {},
   "source": [
    "One reason of the python being much famous is python libraries. There are many robust libraries available for data manipulation and handling. The information regarding all the versions of the library has been provided with requirement.txt file attached with the notebook. For data manipulation and handling Numpy version `1.18.3`and Pandas version `0.25.2` are used. For the data visulaization matplotlib version `3.1.1` and seaborn `0.9.0` are used. Some other python packages are also been used such as zipfile, glob and os to help us navigate through the data. The kaggle api is used to directly download the dataset in the notebook"
   ]
  },
  {
   "cell_type": "code",
   "execution_count": 1,
   "metadata": {},
   "outputs": [],
   "source": [
    "#doing necessary imports\n",
    "import pandas as pd #if not already installed write \"pip install pandas\" in conda prompt.\n",
    "import numpy as np #if not already installed write \"pip install numpy\" in conda prompt.\n",
    "import glob #python built-in package\n",
    "import kaggle ##if not already installed write \"pip install kaggle\" in conda prompt and paste json file from account in folder\n",
    "from zipfile import ZipFile #python built-in package\n",
    "import os #python built-in package\n",
    "import matplotlib.pyplot as plt #if not already installed write \"pip install matplotlib\" in conda prompt.\n",
    "import seaborn as sns #if not already installed write \"pip install seaborn\" in conda prompt.\n",
    "%matplotlib inline #notebook magic line to visualize the figures"
   ]
  },
  {
   "cell_type": "markdown",
   "metadata": {},
   "source": [
    "## 2.2 Downloading the data"
   ]
  },
  {
   "cell_type": "markdown",
   "metadata": {},
   "source": [
    "As explained earlier. We will acquire the data from kaggle. The dataset has been prepared by **Ega Febri Dharmawan**. This data set only contain information of the season 1992-1993 to 2018-2019. Now we will acquire the data using kaggle api."
   ]
  },
  {
   "cell_type": "code",
   "execution_count": 2,
   "metadata": {},
   "outputs": [],
   "source": [
    "#configuring kaggle api\n",
    "from kaggle.api.kaggle_api_extended import KaggleApi"
   ]
  },
  {
   "cell_type": "code",
   "execution_count": 3,
   "metadata": {},
   "outputs": [],
   "source": [
    "api=KaggleApi()\n",
    "api.authenticate()"
   ]
  },
  {
   "cell_type": "code",
   "execution_count": 4,
   "metadata": {},
   "outputs": [],
   "source": [
    "api.dataset_download_files(\"egadharmawan/premier-league-standing-all-season-19922020\") #this will return a zip file"
   ]
  },
  {
   "cell_type": "code",
   "execution_count": 5,
   "metadata": {},
   "outputs": [],
   "source": [
    "zf=ZipFile('premier-league-standing-all-season-19922020.zip') #this finds the zip file\n",
    "zf.extractall('Dataset/') #to extract the zip file in defined folder\n",
    "zf.close()"
   ]
  },
  {
   "cell_type": "markdown",
   "metadata": {},
   "source": [
    "## 2.3 Transformation of data into useable format"
   ]
  },
  {
   "cell_type": "code",
   "execution_count": 7,
   "metadata": {},
   "outputs": [],
   "source": [
    "all_files = glob.glob(\"Dataset\\Premier League*.csv\") #this will look for all files with premier league in name\n",
    "\n",
    "# Combines all files\n",
    "all_dataframes = [] # create empty list\n",
    "for filename in all_files: #we will iterate through one file at a time\n",
    "    df = pd.read_csv(filename, index_col=None, header=0) #this will read the csv files that are downloaded\n",
    "    df.columns = ['Position','Club','Played','Won','Drawn','Lost','GF','GA','GD','Points','Season'] #columns names\n",
    "    all_dataframes.append(df)\n",
    "\n",
    "# Combine and Sort DataFrames into one clean looking DataFrame\n",
    "df1 = pd.concat(all_dataframes, axis=0, ignore_index=True, sort=False)\n",
    "df1 = df1.sort_values(['Season','Position'], ascending=[True, True])"
   ]
  },
  {
   "cell_type": "code",
   "execution_count": 8,
   "metadata": {},
   "outputs": [
    {
     "data": {
      "text/plain": [
       "array(['1992/1993', '1993/1994', '1994/1995', '1995/1996', '1996/1997',\n",
       "       '1997/1998', '1998/1999', '1999/2000', '2000/2001', '2001/2002',\n",
       "       '2002/2003', '2003/2004', '2004/2005', '2005/2006', '2006/2007',\n",
       "       '2007/2008', '2008/2009', '2009/2010', '2010/2011', '2011/2012',\n",
       "       '2012/2013', '2013/2014', '2014/2015', '2015/2016', '2016/2017',\n",
       "       '2017/2018', '2018/2019', '2019/2020'], dtype=object)"
      ]
     },
     "execution_count": 8,
     "metadata": {},
     "output_type": "execute_result"
    }
   ],
   "source": [
    "#let us double check if the data has been acquired correctly or not\n",
    "df1['Season'].unique()"
   ]
  },
  {
   "cell_type": "code",
   "execution_count": 9,
   "metadata": {},
   "outputs": [
    {
     "data": {
      "text/plain": [
       "array(['Manchester United', 'Aston Villa', 'Norwich City',\n",
       "       'Blackburn Rovers', 'Queens Park Rangers', 'Liverpool',\n",
       "       'Sheffield Wednesday', 'Tottenham Hotspur', 'Manchester City',\n",
       "       'Arsenal', 'Chelsea', 'Wimbledon', 'Everton', 'Sheffield United',\n",
       "       'Coventry City', 'Ipswich Town', 'Leeds United', 'Southampton',\n",
       "       'Oldham Athletic', 'Crystal Palace', 'Middlesbrough',\n",
       "       'Nottingham Forest', 'Newcastle United', 'West Ham United',\n",
       "       'Swindon Town', 'Leicester City', 'Bolton Wanderers',\n",
       "       'Derby County', 'Sunderland', 'Barnsley', 'Charlton Athletic',\n",
       "       'Bradford City', 'Watford', 'WestHam United', 'Fulham',\n",
       "       'Birmingham City', 'West Bromwich Albion', 'Portsmouth',\n",
       "       'Wolverhampton Wanderers', 'Wigan Athletic', 'Reading',\n",
       "       'Stoke City', 'Hull City', 'Burnley', 'Blackpool', 'Swansea City',\n",
       "       'Cardiff City', 'Bournemouth', 'Brighton and Hove Albion',\n",
       "       'Huddersfield Town'], dtype=object)"
      ]
     },
     "execution_count": 9,
     "metadata": {},
     "output_type": "execute_result"
    }
   ],
   "source": [
    "#let us also have a look at clubs that has ever played in premier league\n",
    "df1['Club'].unique()"
   ]
  },
  {
   "cell_type": "markdown",
   "metadata": {},
   "source": [
    "## 2.4 Acquiring and cleaning the Data for season 2019-2020 & 2020-2021"
   ]
  },
  {
   "cell_type": "markdown",
   "metadata": {},
   "source": [
    "We will now scrap the remaining dataset from [fbref.com](https://fbref.com/en/). Alternatively, we could have scraped the entire data from the same source but since the url for every season are not maintained in a consistent manner, it is easier to just acquire the data from kaggle where the data has already prepared by someone."
   ]
  },
  {
   "cell_type": "code",
   "execution_count": 17,
   "metadata": {},
   "outputs": [],
   "source": [
    "#import the remaining data of season 2019-2020 & 2020-2021\n",
    "df2=pd.read_html('https://fbref.com/en/comps/9/3232/2019-2020-Premier-League-Stats',header=0)[0] #it returns two table we only need the first one\n",
    "df3=pd.read_html(\"https://fbref.com/en/comps/9/Premier-League-Stats\",header=0)[0] #it returns the data of 2020-2021 season"
   ]
  },
  {
   "cell_type": "code",
   "execution_count": 18,
   "metadata": {},
   "outputs": [
    {
     "data": {
      "text/html": [
       "<div>\n",
       "<style scoped>\n",
       "    .dataframe tbody tr th:only-of-type {\n",
       "        vertical-align: middle;\n",
       "    }\n",
       "\n",
       "    .dataframe tbody tr th {\n",
       "        vertical-align: top;\n",
       "    }\n",
       "\n",
       "    .dataframe thead th {\n",
       "        text-align: right;\n",
       "    }\n",
       "</style>\n",
       "<table border=\"1\" class=\"dataframe\">\n",
       "  <thead>\n",
       "    <tr style=\"text-align: right;\">\n",
       "      <th></th>\n",
       "      <th>Rk</th>\n",
       "      <th>Squad</th>\n",
       "      <th>MP</th>\n",
       "      <th>W</th>\n",
       "      <th>D</th>\n",
       "      <th>L</th>\n",
       "      <th>GF</th>\n",
       "      <th>GA</th>\n",
       "      <th>GDiff</th>\n",
       "      <th>Pts</th>\n",
       "      <th>xG</th>\n",
       "      <th>xGA</th>\n",
       "      <th>xGDiff</th>\n",
       "      <th>xGDiff/90</th>\n",
       "      <th>Attendance</th>\n",
       "      <th>Top Team Scorer</th>\n",
       "      <th>Goalkeeper</th>\n",
       "      <th>Notes</th>\n",
       "    </tr>\n",
       "  </thead>\n",
       "  <tbody>\n",
       "    <tr>\n",
       "      <th>0</th>\n",
       "      <td>1</td>\n",
       "      <td>Liverpool</td>\n",
       "      <td>38</td>\n",
       "      <td>32</td>\n",
       "      <td>3</td>\n",
       "      <td>3</td>\n",
       "      <td>85</td>\n",
       "      <td>33</td>\n",
       "      <td>52</td>\n",
       "      <td>99</td>\n",
       "      <td>71.5</td>\n",
       "      <td>40.0</td>\n",
       "      <td>31.5</td>\n",
       "      <td>0.83</td>\n",
       "      <td>41955</td>\n",
       "      <td>Mohamed Salah - 19</td>\n",
       "      <td>Alisson</td>\n",
       "      <td>→ UEFA Champions League via league finish</td>\n",
       "    </tr>\n",
       "    <tr>\n",
       "      <th>1</th>\n",
       "      <td>2</td>\n",
       "      <td>Manchester City</td>\n",
       "      <td>38</td>\n",
       "      <td>26</td>\n",
       "      <td>3</td>\n",
       "      <td>9</td>\n",
       "      <td>102</td>\n",
       "      <td>35</td>\n",
       "      <td>67</td>\n",
       "      <td>81</td>\n",
       "      <td>93.0</td>\n",
       "      <td>34.7</td>\n",
       "      <td>58.3</td>\n",
       "      <td>1.53</td>\n",
       "      <td>37097</td>\n",
       "      <td>Raheem Sterling - 20</td>\n",
       "      <td>Ederson</td>\n",
       "      <td>→ UEFA Champions League via league finish</td>\n",
       "    </tr>\n",
       "    <tr>\n",
       "      <th>2</th>\n",
       "      <td>3</td>\n",
       "      <td>Manchester Utd</td>\n",
       "      <td>38</td>\n",
       "      <td>18</td>\n",
       "      <td>12</td>\n",
       "      <td>8</td>\n",
       "      <td>66</td>\n",
       "      <td>36</td>\n",
       "      <td>30</td>\n",
       "      <td>66</td>\n",
       "      <td>59.4</td>\n",
       "      <td>37.4</td>\n",
       "      <td>22.0</td>\n",
       "      <td>0.58</td>\n",
       "      <td>57415</td>\n",
       "      <td>Marcus Rashford, Anthony Martial - 17</td>\n",
       "      <td>David de Gea</td>\n",
       "      <td>→ UEFA Champions League via league finish</td>\n",
       "    </tr>\n",
       "    <tr>\n",
       "      <th>3</th>\n",
       "      <td>4</td>\n",
       "      <td>Chelsea</td>\n",
       "      <td>38</td>\n",
       "      <td>20</td>\n",
       "      <td>6</td>\n",
       "      <td>12</td>\n",
       "      <td>69</td>\n",
       "      <td>54</td>\n",
       "      <td>15</td>\n",
       "      <td>66</td>\n",
       "      <td>66.6</td>\n",
       "      <td>37.9</td>\n",
       "      <td>28.6</td>\n",
       "      <td>0.75</td>\n",
       "      <td>32023</td>\n",
       "      <td>Tammy Abraham - 15</td>\n",
       "      <td>Kepa Arrizabalaga</td>\n",
       "      <td>→ UEFA Champions League via league finish</td>\n",
       "    </tr>\n",
       "    <tr>\n",
       "      <th>4</th>\n",
       "      <td>5</td>\n",
       "      <td>Leicester City</td>\n",
       "      <td>38</td>\n",
       "      <td>18</td>\n",
       "      <td>8</td>\n",
       "      <td>12</td>\n",
       "      <td>67</td>\n",
       "      <td>41</td>\n",
       "      <td>26</td>\n",
       "      <td>62</td>\n",
       "      <td>61.6</td>\n",
       "      <td>44.5</td>\n",
       "      <td>17.1</td>\n",
       "      <td>0.45</td>\n",
       "      <td>25312</td>\n",
       "      <td>Jamie Vardy - 23</td>\n",
       "      <td>Kasper Schmeichel</td>\n",
       "      <td>→ UEFA Europa League via league finish</td>\n",
       "    </tr>\n",
       "  </tbody>\n",
       "</table>\n",
       "</div>"
      ],
      "text/plain": [
       "   Rk            Squad  MP   W   D   L   GF  GA  GDiff  Pts    xG   xGA  \\\n",
       "0   1        Liverpool  38  32   3   3   85  33     52   99  71.5  40.0   \n",
       "1   2  Manchester City  38  26   3   9  102  35     67   81  93.0  34.7   \n",
       "2   3   Manchester Utd  38  18  12   8   66  36     30   66  59.4  37.4   \n",
       "3   4          Chelsea  38  20   6  12   69  54     15   66  66.6  37.9   \n",
       "4   5   Leicester City  38  18   8  12   67  41     26   62  61.6  44.5   \n",
       "\n",
       "   xGDiff  xGDiff/90  Attendance                        Top Team Scorer  \\\n",
       "0    31.5       0.83       41955                     Mohamed Salah - 19   \n",
       "1    58.3       1.53       37097                   Raheem Sterling - 20   \n",
       "2    22.0       0.58       57415  Marcus Rashford, Anthony Martial - 17   \n",
       "3    28.6       0.75       32023                     Tammy Abraham - 15   \n",
       "4    17.1       0.45       25312                       Jamie Vardy - 23   \n",
       "\n",
       "          Goalkeeper                                      Notes  \n",
       "0            Alisson  → UEFA Champions League via league finish  \n",
       "1            Ederson  → UEFA Champions League via league finish  \n",
       "2       David de Gea  → UEFA Champions League via league finish  \n",
       "3  Kepa Arrizabalaga  → UEFA Champions League via league finish  \n",
       "4  Kasper Schmeichel     → UEFA Europa League via league finish  "
      ]
     },
     "execution_count": 18,
     "metadata": {},
     "output_type": "execute_result"
    }
   ],
   "source": [
    "#looking in what format the data has been called and with which features\n",
    "df2.head()"
   ]
  },
  {
   "cell_type": "markdown",
   "metadata": {},
   "source": [
    "Here we can see that we have some extra features that are not available for previous seasons. In order to keep the workflow consistent we will remove this extra features and stick to the basic ones only."
   ]
  },
  {
   "cell_type": "code",
   "execution_count": 19,
   "metadata": {},
   "outputs": [],
   "source": [
    "#let's eliminate those extra features\n",
    "df2=df2.iloc[:,:10]\n",
    "df3=df3.iloc[:,:10]"
   ]
  },
  {
   "cell_type": "code",
   "execution_count": 20,
   "metadata": {},
   "outputs": [],
   "source": [
    "#let's concatenate the 2 DataFrames into one clean looking DataFrame\n",
    "df_19_21=pd.concat([df2,df3],axis=0)"
   ]
  },
  {
   "cell_type": "code",
   "execution_count": 26,
   "metadata": {},
   "outputs": [
    {
     "data": {
      "text/plain": [
       "array(['Liverpool', 'Manchester City', 'Manchester Utd', 'Chelsea',\n",
       "       'Leicester City', 'Tottenham', 'Wolves', 'Arsenal',\n",
       "       'Sheffield Utd', 'Burnley', 'Southampton', 'Everton',\n",
       "       'Newcastle Utd', 'Crystal Palace', 'Brighton', 'West Ham',\n",
       "       'Aston Villa', 'Bournemouth', 'Watford', 'Norwich City',\n",
       "       'Leeds United', 'Fulham', 'West Brom'], dtype=object)"
      ]
     },
     "execution_count": 26,
     "metadata": {},
     "output_type": "execute_result"
    }
   ],
   "source": [
    "#to have a look on the teams that have played the the last 2 seasons\n",
    "df_19_21['Squad'].unique()"
   ]
  },
  {
   "cell_type": "markdown",
   "metadata": {},
   "source": [
    "## 2.5 Making the two Datasets consistent"
   ]
  },
  {
   "cell_type": "markdown",
   "metadata": {},
   "source": [
    "Since the datasets are been extracted from two different sources, there is a great chance that the two must have some uncommon naming of clubs. So we will now look for the clubs that has been noted here with different names but are the same club"
   ]
  },
  {
   "cell_type": "code",
   "execution_count": 29,
   "metadata": {},
   "outputs": [],
   "source": [
    "#let's make the name of the teams present in the two dataset consistent with each other\n",
    "counter=0 #to track the location/index of the club name to be corrected\n",
    "team_names_tobecorrected=[] \n",
    "for x in df_19_21['Squad'].unique():\n",
    "    if not x in df1['Club'].unique():\n",
    "        team_names_tobecorrected.append(x)\n",
    "        counter+=1"
   ]
  },
  {
   "cell_type": "code",
   "execution_count": 40,
   "metadata": {},
   "outputs": [
    {
     "data": {
      "text/plain": [
       "['Manchester Utd',\n",
       " 'Tottenham',\n",
       " 'Wolves',\n",
       " 'Sheffield Utd',\n",
       " 'Newcastle Utd',\n",
       " 'Brighton',\n",
       " 'West Ham',\n",
       " 'West Brom']"
      ]
     },
     "execution_count": 40,
     "metadata": {},
     "output_type": "execute_result"
    }
   ],
   "source": [
    "#to take a look which names need to be corrected\n",
    "team_names_tobecorrected"
   ]
  },
  {
   "cell_type": "code",
   "execution_count": 31,
   "metadata": {},
   "outputs": [],
   "source": [
    "#let us write the names of the clubs same as they are present in kaggle dataset \n",
    "corrected_names=['Manchester United','Tottenham Hotspur','Wolverhampton Wanderers','Sheffield United','Newcastle United','Brighton and Hove Albion','West Ham United','West Bromwich Albion']"
   ]
  },
  {
   "cell_type": "code",
   "execution_count": 32,
   "metadata": {},
   "outputs": [],
   "source": [
    "#this will replace the existing club names with the correct or consistent names\n",
    "df_19_21['Squad'].replace(to_replace=team_names_tobecorrected,value=corrected_names,inplace=True)"
   ]
  },
  {
   "cell_type": "code",
   "execution_count": 33,
   "metadata": {},
   "outputs": [
    {
     "name": "stderr",
     "output_type": "stream",
     "text": [
      "p:\\softwares\\anaconda\\envs\\mytfenv\\lib\\site-packages\\ipykernel_launcher.py:3: SettingWithCopyWarning: \n",
      "A value is trying to be set on a copy of a slice from a DataFrame\n",
      "\n",
      "See the caveats in the documentation: http://pandas.pydata.org/pandas-docs/stable/user_guide/indexing.html#returning-a-view-versus-a-copy\n",
      "  This is separate from the ipykernel package so we can avoid doing imports until\n"
     ]
    }
   ],
   "source": [
    "#also the kaggle data has additional column that contains the season name information let's add in this DataFrame too\n",
    "df_19_21['Season']='2019/2020' #this will create new column with values all equal to 2019/2020 \n",
    "df_19_21['Season'][20:]='2020/2021' #this will correct the season of last 20 instances to 2020/2021"
   ]
  },
  {
   "cell_type": "code",
   "execution_count": 34,
   "metadata": {},
   "outputs": [],
   "source": [
    "#let's make the column name of the two dataset consistent with each other\n",
    "df_19_21.columns=df1.columns"
   ]
  },
  {
   "cell_type": "markdown",
   "metadata": {},
   "source": [
    "## 2.6 Finalizing the cleaning and merging the two datasets"
   ]
  },
  {
   "cell_type": "code",
   "execution_count": 36,
   "metadata": {},
   "outputs": [],
   "source": [
    "#to concatenate the data into one\n",
    "df=pd.concat([df1,df_19_21])"
   ]
  },
  {
   "cell_type": "code",
   "execution_count": 37,
   "metadata": {},
   "outputs": [
    {
     "data": {
      "text/html": [
       "<div>\n",
       "<style scoped>\n",
       "    .dataframe tbody tr th:only-of-type {\n",
       "        vertical-align: middle;\n",
       "    }\n",
       "\n",
       "    .dataframe tbody tr th {\n",
       "        vertical-align: top;\n",
       "    }\n",
       "\n",
       "    .dataframe thead th {\n",
       "        text-align: right;\n",
       "    }\n",
       "</style>\n",
       "<table border=\"1\" class=\"dataframe\">\n",
       "  <thead>\n",
       "    <tr style=\"text-align: right;\">\n",
       "      <th></th>\n",
       "      <th>Position</th>\n",
       "      <th>Club</th>\n",
       "      <th>Played</th>\n",
       "      <th>Won</th>\n",
       "      <th>Drawn</th>\n",
       "      <th>Lost</th>\n",
       "      <th>GF</th>\n",
       "      <th>GA</th>\n",
       "      <th>GD</th>\n",
       "      <th>Points</th>\n",
       "      <th>Season</th>\n",
       "    </tr>\n",
       "  </thead>\n",
       "  <tbody>\n",
       "    <tr>\n",
       "      <th>0</th>\n",
       "      <td>1</td>\n",
       "      <td>Manchester United</td>\n",
       "      <td>42</td>\n",
       "      <td>24</td>\n",
       "      <td>12</td>\n",
       "      <td>6</td>\n",
       "      <td>67</td>\n",
       "      <td>31</td>\n",
       "      <td>36</td>\n",
       "      <td>84.0</td>\n",
       "      <td>1992/1993</td>\n",
       "    </tr>\n",
       "    <tr>\n",
       "      <th>1</th>\n",
       "      <td>2</td>\n",
       "      <td>Aston Villa</td>\n",
       "      <td>42</td>\n",
       "      <td>21</td>\n",
       "      <td>11</td>\n",
       "      <td>10</td>\n",
       "      <td>57</td>\n",
       "      <td>40</td>\n",
       "      <td>17</td>\n",
       "      <td>74.0</td>\n",
       "      <td>1992/1993</td>\n",
       "    </tr>\n",
       "    <tr>\n",
       "      <th>2</th>\n",
       "      <td>3</td>\n",
       "      <td>Norwich City</td>\n",
       "      <td>42</td>\n",
       "      <td>21</td>\n",
       "      <td>9</td>\n",
       "      <td>12</td>\n",
       "      <td>61</td>\n",
       "      <td>65</td>\n",
       "      <td>-4</td>\n",
       "      <td>72.0</td>\n",
       "      <td>1992/1993</td>\n",
       "    </tr>\n",
       "    <tr>\n",
       "      <th>3</th>\n",
       "      <td>4</td>\n",
       "      <td>Blackburn Rovers</td>\n",
       "      <td>42</td>\n",
       "      <td>20</td>\n",
       "      <td>11</td>\n",
       "      <td>11</td>\n",
       "      <td>68</td>\n",
       "      <td>46</td>\n",
       "      <td>22</td>\n",
       "      <td>71.0</td>\n",
       "      <td>1992/1993</td>\n",
       "    </tr>\n",
       "    <tr>\n",
       "      <th>4</th>\n",
       "      <td>5</td>\n",
       "      <td>Queens Park Rangers</td>\n",
       "      <td>42</td>\n",
       "      <td>17</td>\n",
       "      <td>12</td>\n",
       "      <td>13</td>\n",
       "      <td>63</td>\n",
       "      <td>55</td>\n",
       "      <td>8</td>\n",
       "      <td>63.0</td>\n",
       "      <td>1992/1993</td>\n",
       "    </tr>\n",
       "    <tr>\n",
       "      <th>...</th>\n",
       "      <td>...</td>\n",
       "      <td>...</td>\n",
       "      <td>...</td>\n",
       "      <td>...</td>\n",
       "      <td>...</td>\n",
       "      <td>...</td>\n",
       "      <td>...</td>\n",
       "      <td>...</td>\n",
       "      <td>...</td>\n",
       "      <td>...</td>\n",
       "      <td>...</td>\n",
       "    </tr>\n",
       "    <tr>\n",
       "      <th>601</th>\n",
       "      <td>16</td>\n",
       "      <td>Burnley</td>\n",
       "      <td>13</td>\n",
       "      <td>3</td>\n",
       "      <td>4</td>\n",
       "      <td>6</td>\n",
       "      <td>8</td>\n",
       "      <td>19</td>\n",
       "      <td>-11</td>\n",
       "      <td>13.0</td>\n",
       "      <td>2020/2021</td>\n",
       "    </tr>\n",
       "    <tr>\n",
       "      <th>602</th>\n",
       "      <td>17</td>\n",
       "      <td>Brighton and Hove Albion</td>\n",
       "      <td>14</td>\n",
       "      <td>2</td>\n",
       "      <td>6</td>\n",
       "      <td>6</td>\n",
       "      <td>16</td>\n",
       "      <td>22</td>\n",
       "      <td>-6</td>\n",
       "      <td>12.0</td>\n",
       "      <td>2020/2021</td>\n",
       "    </tr>\n",
       "    <tr>\n",
       "      <th>603</th>\n",
       "      <td>18</td>\n",
       "      <td>Fulham</td>\n",
       "      <td>14</td>\n",
       "      <td>2</td>\n",
       "      <td>4</td>\n",
       "      <td>8</td>\n",
       "      <td>13</td>\n",
       "      <td>23</td>\n",
       "      <td>-10</td>\n",
       "      <td>10.0</td>\n",
       "      <td>2020/2021</td>\n",
       "    </tr>\n",
       "    <tr>\n",
       "      <th>604</th>\n",
       "      <td>19</td>\n",
       "      <td>West Bromwich Albion</td>\n",
       "      <td>14</td>\n",
       "      <td>1</td>\n",
       "      <td>4</td>\n",
       "      <td>9</td>\n",
       "      <td>10</td>\n",
       "      <td>29</td>\n",
       "      <td>-19</td>\n",
       "      <td>7.0</td>\n",
       "      <td>2020/2021</td>\n",
       "    </tr>\n",
       "    <tr>\n",
       "      <th>605</th>\n",
       "      <td>20</td>\n",
       "      <td>Sheffield United</td>\n",
       "      <td>14</td>\n",
       "      <td>0</td>\n",
       "      <td>2</td>\n",
       "      <td>12</td>\n",
       "      <td>8</td>\n",
       "      <td>25</td>\n",
       "      <td>-17</td>\n",
       "      <td>2.0</td>\n",
       "      <td>2020/2021</td>\n",
       "    </tr>\n",
       "  </tbody>\n",
       "</table>\n",
       "<p>606 rows × 11 columns</p>\n",
       "</div>"
      ],
      "text/plain": [
       "     Position                      Club  Played  Won  Drawn  Lost  GF  GA  GD  \\\n",
       "0           1         Manchester United      42   24     12     6  67  31  36   \n",
       "1           2               Aston Villa      42   21     11    10  57  40  17   \n",
       "2           3              Norwich City      42   21      9    12  61  65  -4   \n",
       "3           4          Blackburn Rovers      42   20     11    11  68  46  22   \n",
       "4           5       Queens Park Rangers      42   17     12    13  63  55   8   \n",
       "..        ...                       ...     ...  ...    ...   ...  ..  ..  ..   \n",
       "601        16                   Burnley      13    3      4     6   8  19 -11   \n",
       "602        17  Brighton and Hove Albion      14    2      6     6  16  22  -6   \n",
       "603        18                    Fulham      14    2      4     8  13  23 -10   \n",
       "604        19      West Bromwich Albion      14    1      4     9  10  29 -19   \n",
       "605        20          Sheffield United      14    0      2    12   8  25 -17   \n",
       "\n",
       "     Points     Season  \n",
       "0      84.0  1992/1993  \n",
       "1      74.0  1992/1993  \n",
       "2      72.0  1992/1993  \n",
       "3      71.0  1992/1993  \n",
       "4      63.0  1992/1993  \n",
       "..      ...        ...  \n",
       "601    13.0  2020/2021  \n",
       "602    12.0  2020/2021  \n",
       "603    10.0  2020/2021  \n",
       "604     7.0  2020/2021  \n",
       "605     2.0  2020/2021  \n",
       "\n",
       "[606 rows x 11 columns]"
      ]
     },
     "execution_count": 37,
     "metadata": {},
     "output_type": "execute_result"
    }
   ],
   "source": [
    "#it is a good practice to reset the index after application of all cleaning steps\n",
    "df.reset_index(drop=True)"
   ]
  },
  {
   "cell_type": "code",
   "execution_count": 38,
   "metadata": {},
   "outputs": [
    {
     "data": {
      "text/html": [
       "<div>\n",
       "<style scoped>\n",
       "    .dataframe tbody tr th:only-of-type {\n",
       "        vertical-align: middle;\n",
       "    }\n",
       "\n",
       "    .dataframe tbody tr th {\n",
       "        vertical-align: top;\n",
       "    }\n",
       "\n",
       "    .dataframe thead th {\n",
       "        text-align: right;\n",
       "    }\n",
       "</style>\n",
       "<table border=\"1\" class=\"dataframe\">\n",
       "  <thead>\n",
       "    <tr style=\"text-align: right;\">\n",
       "      <th></th>\n",
       "      <th>Position</th>\n",
       "      <th>Club</th>\n",
       "      <th>Played</th>\n",
       "      <th>Won</th>\n",
       "      <th>Drawn</th>\n",
       "      <th>Lost</th>\n",
       "      <th>GF</th>\n",
       "      <th>GA</th>\n",
       "      <th>GD</th>\n",
       "      <th>Points</th>\n",
       "      <th>Season</th>\n",
       "    </tr>\n",
       "  </thead>\n",
       "  <tbody>\n",
       "    <tr>\n",
       "      <th>400</th>\n",
       "      <td>1</td>\n",
       "      <td>Manchester United</td>\n",
       "      <td>42</td>\n",
       "      <td>24</td>\n",
       "      <td>12</td>\n",
       "      <td>6</td>\n",
       "      <td>67</td>\n",
       "      <td>31</td>\n",
       "      <td>36</td>\n",
       "      <td>84.0</td>\n",
       "      <td>1992/1993</td>\n",
       "    </tr>\n",
       "    <tr>\n",
       "      <th>401</th>\n",
       "      <td>2</td>\n",
       "      <td>Aston Villa</td>\n",
       "      <td>42</td>\n",
       "      <td>21</td>\n",
       "      <td>11</td>\n",
       "      <td>10</td>\n",
       "      <td>57</td>\n",
       "      <td>40</td>\n",
       "      <td>17</td>\n",
       "      <td>74.0</td>\n",
       "      <td>1992/1993</td>\n",
       "    </tr>\n",
       "    <tr>\n",
       "      <th>402</th>\n",
       "      <td>3</td>\n",
       "      <td>Norwich City</td>\n",
       "      <td>42</td>\n",
       "      <td>21</td>\n",
       "      <td>9</td>\n",
       "      <td>12</td>\n",
       "      <td>61</td>\n",
       "      <td>65</td>\n",
       "      <td>-4</td>\n",
       "      <td>72.0</td>\n",
       "      <td>1992/1993</td>\n",
       "    </tr>\n",
       "    <tr>\n",
       "      <th>403</th>\n",
       "      <td>4</td>\n",
       "      <td>Blackburn Rovers</td>\n",
       "      <td>42</td>\n",
       "      <td>20</td>\n",
       "      <td>11</td>\n",
       "      <td>11</td>\n",
       "      <td>68</td>\n",
       "      <td>46</td>\n",
       "      <td>22</td>\n",
       "      <td>71.0</td>\n",
       "      <td>1992/1993</td>\n",
       "    </tr>\n",
       "    <tr>\n",
       "      <th>404</th>\n",
       "      <td>5</td>\n",
       "      <td>Queens Park Rangers</td>\n",
       "      <td>42</td>\n",
       "      <td>17</td>\n",
       "      <td>12</td>\n",
       "      <td>13</td>\n",
       "      <td>63</td>\n",
       "      <td>55</td>\n",
       "      <td>8</td>\n",
       "      <td>63.0</td>\n",
       "      <td>1992/1993</td>\n",
       "    </tr>\n",
       "  </tbody>\n",
       "</table>\n",
       "</div>"
      ],
      "text/plain": [
       "     Position                 Club  Played  Won  Drawn  Lost  GF  GA  GD  \\\n",
       "400         1    Manchester United      42   24     12     6  67  31  36   \n",
       "401         2          Aston Villa      42   21     11    10  57  40  17   \n",
       "402         3         Norwich City      42   21      9    12  61  65  -4   \n",
       "403         4     Blackburn Rovers      42   20     11    11  68  46  22   \n",
       "404         5  Queens Park Rangers      42   17     12    13  63  55   8   \n",
       "\n",
       "     Points     Season  \n",
       "400    84.0  1992/1993  \n",
       "401    74.0  1992/1993  \n",
       "402    72.0  1992/1993  \n",
       "403    71.0  1992/1993  \n",
       "404    63.0  1992/1993  "
      ]
     },
     "execution_count": 38,
     "metadata": {},
     "output_type": "execute_result"
    }
   ],
   "source": [
    "#let's have a final look in dataset\n",
    "df.head()"
   ]
  },
  {
   "cell_type": "markdown",
   "metadata": {},
   "source": [
    "Till now we have acquired and scraped the data from 2 sources. We cleaned the two datasets. Apply transformtion to make them consistent and merge them into one DataFrame. Now we are good to go to visualize the data to gain insights"
   ]
  },
  {
   "cell_type": "markdown",
   "metadata": {},
   "source": [
    "# 3. Data Visualization"
   ]
  },
  {
   "cell_type": "markdown",
   "metadata": {},
   "source": [
    "## 3.1 Insights from data\n",
    "In this part we will analyze the cleaned data and look for the possible insights about the relegated team. We will also visualize some of the factors that may cause the relegation of a team and in the end we will conclude on how to prject if a certain club will relegate or promote to other division."
   ]
  },
  {
   "cell_type": "markdown",
   "metadata": {},
   "source": [
    "Our main focus is to analyze the factors that cause a relegation of a club. But we will start from generalized approach and learn some insights about the league first. For this we will answer some questions and discover patterns that are repeated. Also we will look into the teams that end in the top part of the standings table after every season."
   ]
  },
  {
   "cell_type": "markdown",
   "metadata": {},
   "source": [
    "#### Objective:\n",
    "To learn which team has won the most time"
   ]
  },
  {
   "cell_type": "code",
   "execution_count": 46,
   "metadata": {},
   "outputs": [
    {
     "data": {
      "text/plain": [
       "<matplotlib.axes._subplots.AxesSubplot at 0x28310a95988>"
      ]
     },
     "execution_count": 46,
     "metadata": {},
     "output_type": "execute_result"
    },
    {
     "data": {
      "image/png": "[encoded data removed]",
      "text/plain": [
       "<Figure size 432x288 with 1 Axes>"
      ]
     },
     "metadata": {
      "needs_background": "light"
     },
     "output_type": "display_data"
    }
   ],
   "source": [
    "#let's learn which team has won the league the most\n",
    "most_win=df.loc[df['Position']==1,'Club'].value_counts()\n",
    "#let's see the result graphically\n",
    "most_win.plot(kind='bar')"
   ]
  },
  {
   "cell_type": "markdown",
   "metadata": {},
   "source": [
    "#### Conclusion:\n",
    "We may conclude that the Manchester United is the best team of all time in Premier league with winning the title 13 times"
   ]
  },
  {
   "cell_type": "markdown",
   "metadata": {},
   "source": [
    "#### Objective:\n",
    "Which is the worst performing team"
   ]
  },
  {
   "cell_type": "code",
   "execution_count": 47,
   "metadata": {},
   "outputs": [
    {
     "data": {
      "text/plain": [
       "<matplotlib.axes._subplots.AxesSubplot at 0x28310d76d48>"
      ]
     },
     "execution_count": 47,
     "metadata": {},
     "output_type": "execute_result"
    },
    {
     "data": {
      "image/png": "[encoded data removed]",
      "text/plain": [
       "<Figure size 432x288 with 1 Axes>"
      ]
     },
     "metadata": {
      "needs_background": "light"
     },
     "output_type": "display_data"
    }
   ],
   "source": [
    "#let's learn which team has end up last in the league the most\n",
    "most_loss=df.loc[df['Position']==20,'Club'].value_counts()\n",
    "#let's see the result graphically\n",
    "most_loss.plot(kind='bar')"
   ]
  },
  {
   "cell_type": "markdown",
   "metadata": {},
   "source": [
    "#### Conclusion:\n",
    "Sunderland and Norwich City are the worst performing team of the premier league"
   ]
  },
  {
   "cell_type": "markdown",
   "metadata": {},
   "source": [
    "#### Objective:\n",
    "To learn which teams have qualified for the next division the most\n",
    "##### NOTE: THE TOP  4 TEAMS QUALIFY FOR THE UEFA CHAMPIONS LEAGUE "
   ]
  },
  {
   "cell_type": "code",
   "execution_count": 52,
   "metadata": {},
   "outputs": [
    {
     "data": {
      "text/plain": [
       "<matplotlib.axes._subplots.AxesSubplot at 0x28310e9e9c8>"
      ]
     },
     "execution_count": 52,
     "metadata": {},
     "output_type": "execute_result"
    },
    {
     "data": {
      "image/png": "[encoded data removed]",
      "text/plain": [
       "<Figure size 432x288 with 1 Axes>"
      ]
     },
     "metadata": {
      "needs_background": "light"
     },
     "output_type": "display_data"
    }
   ],
   "source": [
    "most_ucl=df.loc[df['Position'].between(1,4),'Club'].value_counts()\n",
    "#to plot the results\n",
    "most_ucl.plot(kind='bar')"
   ]
  },
  {
   "cell_type": "markdown",
   "metadata": {},
   "source": [
    "#### Conclusion:\n",
    "Manchester United, Arsenal Liverpool, Chelsea, Manchester City have qualified 25, 21, 19, 18, 11 times respectively"
   ]
  },
  {
   "cell_type": "markdown",
   "metadata": {},
   "source": [
    "#### Objective:\n",
    "To learn which team has relegated the most\n",
    "##### NOTE: THE LAST 3 TEAMS ARE RELEGATED"
   ]
  },
  {
   "cell_type": "code",
   "execution_count": 57,
   "metadata": {},
   "outputs": [
    {
     "data": {
      "text/plain": [
       "<matplotlib.axes._subplots.AxesSubplot at 0x2830f0155c8>"
      ]
     },
     "execution_count": 57,
     "metadata": {},
     "output_type": "execute_result"
    },
    {
     "data": {
      "image/png": "[encoded data removed]",
      "text/plain": [
       "<Figure size 864x288 with 1 Axes>"
      ]
     },
     "metadata": {
      "needs_background": "light"
     },
     "output_type": "display_data"
    }
   ],
   "source": [
    "most_relegation=df.loc[df['Position'].between(18,20),'Club'].value_counts()\n",
    "#plotting results\n",
    "plt.figure(figsize=(12,4))\n",
    "most_relegation.plot(kind='bar')"
   ]
  },
  {
   "cell_type": "markdown",
   "metadata": {},
   "source": [
    "#### Conclusion:\n",
    "Norwich City has been relegated the most (6 times)"
   ]
  },
  {
   "cell_type": "markdown",
   "metadata": {},
   "source": [
    "#### Objective:\n",
    "To learn about the teams that have never been relegated"
   ]
  },
  {
   "cell_type": "code",
   "execution_count": 60,
   "metadata": {},
   "outputs": [
    {
     "data": {
      "text/plain": [
       "Chelsea              30\n",
       "Everton              30\n",
       "Manchester United    30\n",
       "Arsenal              30\n",
       "Tottenham Hotspur    30\n",
       "Liverpool            30\n",
       "Aston Villa          27\n",
       "Newcastle United     27\n",
       "Name: Club, dtype: int64"
      ]
     },
     "execution_count": 60,
     "metadata": {},
     "output_type": "execute_result"
    }
   ],
   "source": [
    "df['Club'].value_counts().head(8) #this will count every time a unique club shows up"
   ]
  },
  {
   "cell_type": "markdown",
   "metadata": {},
   "source": [
    "#### Conclusion:\n",
    "Chelsea, Everton, Manchester United, Arsenal, Tottenham and Liverpool has never been relegated"
   ]
  },
  {
   "cell_type": "markdown",
   "metadata": {},
   "source": [
    "## 3.2 Relegation Analysis"
   ]
  },
  {
   "cell_type": "markdown",
   "metadata": {},
   "source": [
    "In this part we will keep our focus on the relegated teams. We will try to find out patterns or some hidden trend that is common among all the teams that get relegated. We will test one feature at a time. We will generate a null hypothesis and find out if it is true or not. We will dive deep in this section and use statistics to catch the trend. Hopefully by the end, we will be able to predict or project that whether a certain club is close to relegation based on the previous data "
   ]
  },
  {
   "cell_type": "code",
   "execution_count": null,
   "metadata": {},
   "outputs": [],
   "source": []
  }
 ],
 "metadata": {
  "kernelspec": {
   "display_name": "Python 3",
   "language": "python",
   "name": "python3"
  },
  "language_info": {
   "codemirror_mode": {
    "name": "ipython",
    "version": 3
   },
   "file_extension": ".py",
   "mimetype": "text/x-python",
   "name": "python",
   "nbconvert_exporter": "python",
   "pygments_lexer": "ipython3",
   "version": "3.7.7"
  }
 },
 "nbformat": 4,
 "nbformat_minor": 4
}
